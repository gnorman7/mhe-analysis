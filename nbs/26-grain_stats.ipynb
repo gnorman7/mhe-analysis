{
 "cells": [
  {
   "attachments": {},
   "cell_type": "markdown",
   "metadata": {},
   "source": [
    "# Grant's attempt at making sense of SegmentFlow outputs and grain statistics (a two-for-one special)"
   ]
  },
  {
   "cell_type": "code",
   "execution_count": 26,
   "metadata": {},
   "outputs": [
    {
     "name": "stdout",
     "output_type": "stream",
     "text": [
      "The autoreload extension is already loaded. To reload it, use:\n",
      "  %reload_ext autoreload\n"
     ]
    }
   ],
   "source": [
    "import numpy as np\n",
    "import matplotlib.pyplot as plt\n",
    "from stl import mesh\n",
    "%load_ext autoreload\n",
    "%matplotlib qt"
   ]
  },
  {
   "cell_type": "code",
   "execution_count": 112,
   "metadata": {},
   "outputs": [],
   "source": [
    "file = '../../segmentflow_02/stls/isolated-classes_00330.stl'\n",
    "m = mesh.Mesh.from_file(file)\n",
    "vertices = m.vectors.reshape((-1, 3))\n",
    "center = vertices.mean(axis=0)\n",
    "centered = vertices - center\n",
    "\n",
    "\n",
    "# # Testing:\n",
    "# # generate points on an ellipsoid\n",
    "# N = 10\n",
    "# theta = np.linspace(0, 2*np.pi, N)\n",
    "# phi = np.linspace(0, np.pi, N)\n",
    "# x = 5.0*np.outer(np.cos(theta), np.sin(phi))\n",
    "# y = 2*np.outer(np.sin(theta), np.sin(phi))\n",
    "# z = np.outer(np.ones(np.size(theta)), np.cos(phi))\n",
    "# # flatten the arrays\n",
    "# x = x.flatten()\n",
    "# y = y.flatten()\n",
    "# z = z.flatten()\n",
    "# # stack the arrays\n",
    "# centered = np.vstack((x, y, z)).T\n",
    "\n",
    "# Find the principal ellipse\n",
    "cov = np.cov(centered.T)\n",
    "evals,evecs = np.linalg.eig(cov)"
   ]
  },
  {
   "cell_type": "code",
   "execution_count": 114,
   "metadata": {},
   "outputs": [
    {
     "data": {
      "text/plain": [
       "(-0.023690900712230623, 0.02369315760201595)"
      ]
     },
     "execution_count": 114,
     "metadata": {},
     "output_type": "execute_result"
    }
   ],
   "source": [
    "# Generate points along the principal ellipsoid\n",
    "u = np.linspace(0, 2 * np.pi, 100)\n",
    "v = np.linspace(0, np.pi, 50)\n",
    "x = np.outer(np.cos(u), np.sin(v))\n",
    "y = np.outer(np.sin(u), np.sin(v))\n",
    "z = np.outer(np.ones_like(u), np.cos(v))\n",
    "points = np.stack([x.reshape(-1), y.reshape(-1), z.reshape(-1)], axis=1)\n",
    "\n",
    "# Scale and rotate the points by the eigenvectors and eigenvalues\n",
    "scaled_points = np.dot(points * np.sqrt(evals) * 2, evecs)\n",
    "x = scaled_points[:, 0]\n",
    "y = scaled_points[:, 1]\n",
    "z = scaled_points[:, 2] \n",
    "\n",
    "fig = plt.figure(figsize=(10, 10))\n",
    "ax = fig.add_subplot(projection='3d')\n",
    "ax.scatter(x, y, z, color='r', alpha=0.1)\n",
    "ax.scatter(centered[:, 0], centered[:, 1], centered[:, 2], color='b', alpha=0.1)\n",
    "# set equal axes scales\n",
    "max_range = np.array([x.max()-x.min(), y.max()-y.min(), z.max()-z.min()]).max() / 2.0\n",
    "mid_x = (x.max()+x.min()) * 0.5\n",
    "mid_y = (y.max()+y.min()) * 0.5\n",
    "mid_z = (z.max()+z.min()) * 0.5\n",
    "max_range *= 1.2\n",
    "ax.set_xlim(mid_x - max_range, mid_x + max_range)\n",
    "ax.set_ylim(mid_y - max_range, mid_y + max_range)\n",
    "ax.set_zlim(mid_z - max_range, mid_z + max_range)\n",
    "\n",
    "# ToDo: plot surface and wireframe\n",
    "\n",
    "# plot surface and wireframe\n",
    "# ax.plot_surface(x, y, z,  rstride=4, cstride=4, color='b', alpha=0.1)\n",
    "# ax.plot_wireframe(x, y, z,  rstride=4, cstride=4, color='k', alpha=0.3)\n",
    "# add shadows\n",
    "# ax.contour(x, y, z, zdir='x', offset=-1, cmap='Blues')\n",
    "# ax.contour(x, y, z, zdir='y', offset=1, cmap='Blues')\n",
    "# ax.contour(x, y, z, zdir='z', offset=-1, cmap='Blues')\n",
    "\n"
   ]
  }
 ],
 "metadata": {
  "kernelspec": {
   "display_name": "segmentflow",
   "language": "python",
   "name": "python3"
  },
  "language_info": {
   "codemirror_mode": {
    "name": "ipython",
    "version": 3
   },
   "file_extension": ".py",
   "mimetype": "text/x-python",
   "name": "python",
   "nbconvert_exporter": "python",
   "pygments_lexer": "ipython3",
   "version": "3.9.15"
  },
  "orig_nbformat": 4
 },
 "nbformat": 4,
 "nbformat_minor": 2
}
