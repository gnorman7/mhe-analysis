{
 "cells": [
  {
   "attachments": {},
   "cell_type": "markdown",
   "metadata": {},
   "source": [
    "# Grant's attempt at making sense of SegmentFlow outputs and grain statistics (a two-for-one special)"
   ]
  },
  {
   "cell_type": "code",
   "execution_count": 2,
   "metadata": {},
   "outputs": [],
   "source": [
    "import numpy as np\n",
    "import matplotlib.pyplot as plt\n",
    "from stl import mesh\n",
    "# %load_ext autoreload\n",
    "%matplotlib qt\n",
    "# %matplotlib inline"
   ]
  },
  {
   "cell_type": "code",
   "execution_count": 46,
   "metadata": {},
   "outputs": [
    {
     "name": "stdout",
     "output_type": "stream",
     "text": [
      "[1.34212001 0.28512312 0.12275687]\n",
      "[[ 0.71350587  0.27607301  0.39972855]\n",
      " [ 0.97601419 -0.23297461 -1.58125772]\n",
      " [ 0.60633058 -2.68082654  0.76923057]]\n"
     ]
    }
   ],
   "source": [
    "# file = '../../segmentflow_02/stls/isolated-classes_00330.stl'\n",
    "file = '../../segmentflow_02/stls/isolated-classes_00355.stl'\n",
    "m = mesh.Mesh.from_file(file)\n",
    "vertices = m.vectors.reshape((-1, 3))\n",
    "\n",
    "# Remove duplicate rows\n",
    "vertices = np.unique(vertices, axis=0)\n",
    "\n",
    "center = vertices.mean(axis=0)\n",
    "centered = vertices - center\n",
    "\n",
    "\n",
    "# Plot setting\n",
    "make_plt = True\n",
    "\n",
    "# Testing:\n",
    "# generate points on an ellipsoid\n",
    "N = 50\n",
    "theta = np.linspace(0, 1/2*np.pi, N)\n",
    "phi = np.linspace(0, 1/2*np.pi, N)\n",
    "x = 2.0*np.outer(np.cos(theta), np.sin(phi))\n",
    "y = 1.0*np.outer(np.sin(theta), np.sin(phi))\n",
    "z = np.outer(np.ones(np.size(theta)), np.cos(phi))\n",
    "# flatten the arrays\n",
    "x = x.flatten()\n",
    "y = y.flatten()\n",
    "z = z.flatten()\n",
    "# stack the arrays\n",
    "centered = np.vstack((x, y, z)).T\n",
    "\n",
    "n = len(centered)\n",
    "qs = np.zeros(n)\n",
    "\n",
    "if make_plt:\n",
    "    # Generate points on the unit sphere\n",
    "    u = np.linspace(0, 2 * np.pi, 100)\n",
    "    v = np.linspace(0, np.pi, 50)\n",
    "    x = np.outer(np.cos(u), np.sin(v))\n",
    "    y = np.outer(np.sin(u), np.sin(v))\n",
    "    z = np.outer(np.ones_like(u), np.cos(v))\n",
    "    points = np.stack([x.reshape(-1), y.reshape(-1), z.reshape(-1)], axis=1)\n",
    "\n",
    "ellipsoid_scaling = 1.0\n",
    "\n",
    "# Construct the bilinear form\n",
    "# C = np.cov(centered.T)\n",
    "C = centered.T @ centered / n\n",
    "D, V = np.linalg.eig(C)\n",
    "print(D)\n",
    "D = D * ellipsoid_scaling\n",
    "A = np.diag(D**(-0.5)) @ V.T\n",
    "print(A)\n",
    "B = A.T @ A - np.eye(3)\n",
    "\n",
    "if make_plt:\n",
    "    # Scale the points\n",
    "    scaled_points = np.dot(points / np.sqrt(D), V)\n",
    "    # Convert points back into original shape\n",
    "    x = scaled_points[:,0].reshape(x.shape)\n",
    "    y = scaled_points[:,1].reshape(y.shape)\n",
    "    z = scaled_points[:,2].reshape(z.shape)\n",
    "\n",
    "# scaled_points = (B @ point_prime)\n",
    "# print(scaled_points)"
   ]
  },
  {
   "cell_type": "code",
   "execution_count": null,
   "metadata": {},
   "outputs": [],
   "source": [
    "\n",
    "# Check if / how far away from the ellipse\n",
    "points = centered[:,:].T\n",
    "# points = scaled_points[:,:].T\n",
    "\n",
    "# Determine if the points are inside or outside the ellipsoid\n",
    "for i,point in enumerate(points.T):\n",
    "    point = point.reshape((-1, 1))\n",
    "    Q = point.T @ B @ point\n",
    "    qs[i] = (Q.item(0))\n",
    "\n",
    "n_inside = np.sum(qs <= 1.0)\n",
    "\n",
    "if make_plt:\n",
    "    plt.figure()\n",
    "    ax = plt.axes(projection='3d')\n",
    "    ax.scatter3D(centered[:,0], centered[:,1], centered[:,2], cmap='viridis')\n",
    "    ax.plot_surface(x, y, z,  rstride=4, cstride=4, alpha=0.6)\n",
    "    plt.title(f'Scaling factor: {ellipsoid_scaling}, Ratio inside: {n_inside/n:.3f}')"
   ]
  },
  {
   "cell_type": "code",
   "execution_count": 73,
   "metadata": {},
   "outputs": [
    {
     "name": "stdout",
     "output_type": "stream",
     "text": [
      "1.3416407864998736\n",
      "-1.3416407864998736\n"
     ]
    }
   ],
   "source": [
    "print(np.max(z))\n",
    "print(np.min(z))"
   ]
  },
  {
   "cell_type": "code",
   "execution_count": 94,
   "metadata": {},
   "outputs": [
    {
     "name": "stdout",
     "output_type": "stream",
     "text": [
      "0.9999999999999999\n"
     ]
    }
   ],
   "source": [
    "# Scale and rotate the points by the eigenvectors and eigenvalues\n",
    "\n",
    "x = scaled_points[:, 0]\n",
    "y = scaled_points[:, 1]\n",
    "z = scaled_points[:, 2] \n",
    "\n",
    "fig = plt.figure(figsize=(10, 10))\n",
    "ax = fig.add_subplot(projection='3d')\n",
    "ax.scatter(x, y, z, color='r', alpha=0.1)\n",
    "ax.scatter(centered[:, 0], centered[:, 1], centered[:, 2], color='b', alpha=0.1)\n",
    "# set equal axes scales\n",
    "max_range = np.array([x.max()-x.min(), y.max()-y.min(), z.max()-z.min()]).max() / 2.0\n",
    "mid_x = (x.max()+x.min()) * 0.5\n",
    "mid_y = (y.max()+y.min()) * 0.5\n",
    "mid_z = (z.max()+z.min()) * 0.5\n",
    "max_range *= 1.2\n",
    "ax.set_xlim(mid_x - max_range, mid_x + max_range)\n",
    "ax.set_ylim(mid_y - max_range, mid_y + max_range)\n",
    "ax.set_zlim(mid_z - max_range, mid_z + max_range)\n",
    "\n",
    "# ToDo: plot surface and wireframe\n",
    "\n",
    "# plot surface and wireframe\n",
    "# ax.plot_surface(x, y, z,  rstride=4, cstride=4, color='b', alpha=0.1)\n",
    "# ax.plot_wireframe(x, y, z,  rstride=4, cstride=4, color='k', alpha=0.3)\n",
    "# add shadows\n",
    "# ax.contour(x, y, z, zdir='x', offset=-1, cmap='Blues')\n",
    "# ax.contour(x, y, z, zdir='y', offset=1, cmap='Blues')\n",
    "# ax.contour(x, y, z, zdir='z', offset=-1, cmap='Blues')"
   ]
  },
  {
   "attachments": {},
   "cell_type": "markdown",
   "metadata": {},
   "source": [
    "## Write finding the best ellipsoid as an optimization problem and use `cvxpy` to solve it\n",
    "\n",
    "\n",
    "$$\\begin{array}{cl} \\text{maximize} & \\log(\\det(A))\\\\ \\text{subject to} & \\|A x_i + b\\| \\le 1, \\quad i=1,...,n. \\end{array}$$\n",
    "\n",
    "### This next section is meant to be a good standalone"
   ]
  },
  {
   "cell_type": "code",
   "execution_count": 36,
   "metadata": {},
   "outputs": [],
   "source": [
    "import cvxpy as cvx\n",
    "import numpy as np\n",
    "import matplotlib.pyplot as plt\n",
    "from stl import mesh\n",
    "# %load_ext autoreload\n",
    "# %matplotlib qt\n",
    "%matplotlib inline"
   ]
  },
  {
   "cell_type": "code",
   "execution_count": 31,
   "metadata": {},
   "outputs": [],
   "source": [
    "# file = '../../segmentflow_02/stls/isolated-classes_00330.stl'\n",
    "file = '../../segmentflow_02/stls/isolated-classes_00355.stl'\n",
    "m = mesh.Mesh.from_file(file)\n",
    "vertices = m.vectors.reshape((-1, 3))\n",
    "\n",
    "# Remove duplicate rows\n",
    "vertices = np.unique(vertices, axis=0)\n",
    "\n",
    "n = vertices.shape[0]\n",
    "\n",
    "A = cvx.Variable((3, 3), PSD=True)\n",
    "b = cvx.Variable((3,1))\n",
    "obj = cvx.Maximize(cvx.log_det(A))\n",
    "constraints = [ cvx.norm(A@vertices[i:i+1,:].T + b) <= 1 for i in range(n) ]"
   ]
  },
  {
   "cell_type": "code",
   "execution_count": 38,
   "metadata": {},
   "outputs": [
    {
     "name": "stdout",
     "output_type": "stream",
     "text": [
      "status: optimal\n",
      "constraint violation max:  0.0006510649454853912\n",
      "Principal axes:\n",
      "[10.13152363 17.94894171 23.20949712]\n"
     ]
    }
   ],
   "source": [
    "prob = cvx.Problem(obj, constraints)\n",
    "prob.solve(solver='SCS', verbose=False)\n",
    "\n",
    "print(\"status:\", prob.status)\n",
    "\n",
    "# Compute constraint violation using final value of A and b:\n",
    "violation = [np.linalg.norm(A.value@vertices[i:i+1,:].T + b.value) - 1 for i in range(n)]\n",
    "print(\"constraint violation max: \", np.max(violation))\n",
    "\n",
    "\n",
    "# Ellipsoid Size:\n",
    "D,V = np.linalg.eig(A.value)\n",
    "\n",
    "print(\"Principal axes:\")\n",
    "print(D)"
   ]
  },
  {
   "cell_type": "code",
   "execution_count": 37,
   "metadata": {},
   "outputs": [
    {
     "data": {
      "text/plain": [
       "Text(0.5, 0.98, 'Ellipsoid Fit to Enclose 3D Points')"
      ]
     },
     "execution_count": 37,
     "metadata": {},
     "output_type": "execute_result"
    }
   ],
   "source": [
    "N = 50\n",
    "theta = np.linspace(0, 2*np.pi, N)\n",
    "phi = np.linspace(0, np.pi, N)\n",
    "x = np.outer(np.cos(theta), np.sin(phi))\n",
    "y = np.outer(np.sin(theta), np.sin(phi))\n",
    "z = np.outer(np.ones(np.size(theta)), np.cos(phi))\n",
    "\n",
    "# flatten the arrays\n",
    "x = x.flatten()\n",
    "y = y.flatten()\n",
    "z = z.flatten()\n",
    "\n",
    "# stack the arrays\n",
    "points = np.vstack((x-b.value[0,0] , y-b.value[1,0], z-b.value[2,0]))\n",
    "ellipse_points = np.linalg.solve(A.value, points)\n",
    "\n",
    "# Reshape meshgrid style\n",
    "ellipse_points = ellipse_points.reshape((3, N, N))\n",
    "\n",
    "plt.figure()\n",
    "ax = plt.axes(projection='3d')\n",
    "ax.scatter3D(vertices[:,0], vertices[:,1], vertices[:,2], cmap='viridis')\n",
    "ax.plot_surface(ellipse_points[0,:,:], ellipse_points[1,:,:], ellipse_points[2,:,:],  rstride=4, cstride=4, alpha=0.4, cmap='viridis')\n",
    "# Make the same plots but project onto the 3 Planes, using a subplot for each plane\n",
    "fig, ax = plt.subplots(1, 3, figsize=(12, 7))\n",
    "ax[0].scatter(vertices[:,0], vertices[:,1], cmap='viridis')\n",
    "ax[0].plot(ellipse_points[0,:,:], ellipse_points[1,:,:], alpha=0.2)\n",
    "ax[0].set_xlabel('x')\n",
    "ax[0].set_ylabel('y')\n",
    "ax[1].scatter(vertices[:,0], vertices[:,2], cmap='viridis')\n",
    "ax[1].plot(ellipse_points[0,:,:], ellipse_points[2,:,:], alpha=0.2)\n",
    "ax[1].set_xlabel('x')\n",
    "ax[1].set_ylabel('z')\n",
    "ax[2].scatter(vertices[:,1], vertices[:,2], cmap='viridis')\n",
    "ax[2].plot(ellipse_points[1,:,:], ellipse_points[2,:,:], alpha=0.2)\n",
    "ax[2].set_xlabel('y')\n",
    "ax[2].set_ylabel('z')\n",
    "fig.suptitle('Ellipsoid Fit to Enclose 3D Points', fontsize=16)"
   ]
  }
 ],
 "metadata": {
  "kernelspec": {
   "display_name": "segmentflow",
   "language": "python",
   "name": "python3"
  },
  "language_info": {
   "codemirror_mode": {
    "name": "ipython",
    "version": 3
   },
   "file_extension": ".py",
   "mimetype": "text/x-python",
   "name": "python",
   "nbconvert_exporter": "python",
   "pygments_lexer": "ipython3",
   "version": "3.9.15"
  },
  "orig_nbformat": 4
 },
 "nbformat": 4,
 "nbformat_minor": 2
}
